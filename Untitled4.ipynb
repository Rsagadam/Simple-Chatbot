{
 "cells": [
  {
   "cell_type": "code",
   "execution_count": null,
   "id": "4c06b225-e666-434c-af5d-0088d5d0c6c2",
   "metadata": {},
   "outputs": [
    {
     "name": "stdout",
     "output_type": "stream",
     "text": [
      "Welcome to the Chatbot! Type 'bye' to exit.\n"
     ]
    },
    {
     "name": "stdin",
     "output_type": "stream",
     "text": [
      "You:  How are you \n"
     ]
    },
    {
     "name": "stdout",
     "output_type": "stream",
     "text": [
      "Chatbot: Doing well, thanks! What about you?\n"
     ]
    },
    {
     "name": "stdin",
     "output_type": "stream",
     "text": [
      "You:  your age\n"
     ]
    },
    {
     "name": "stdout",
     "output_type": "stream",
     "text": [
      "Chatbot: I'm not sure how to respond to that. Could you try asking something different?\n"
     ]
    },
    {
     "name": "stdin",
     "output_type": "stream",
     "text": [
      "You:  how is weather today \n"
     ]
    },
    {
     "name": "stdout",
     "output_type": "stream",
     "text": [
      "Chatbot: I'm not sure how to respond to that. Could you try asking something different?\n"
     ]
    }
   ],
   "source": [
    "import random\n",
    "\n",
    "def chatbot_response(user_input):\n",
    "    user_input = user_input.lower()\n",
    "    \n",
    "    questions = {\n",
    "        \"what is your name\": [\"I'm a simple chatbot!\", \"You can call me Chatbot.\", \"Just a bot here to chat!\"],\n",
    "        \"what do you do\": [\"I chat with you!\", \"I answer your questions as best I can.\", \"I'm here to help you!\"],\n",
    "        \"how are you\": [\"I'm just a program, but thanks for asking! How about you?\", \"Doing well, thanks! What about you?\"],\n",
    "        \"bye\": [\"Goodbye! Have a great day!\", \"See you later!\", \"Take care!\"]\n",
    "    }\n",
    "\n",
    "    for question, responses in questions.items():\n",
    "        if question in user_input:\n",
    "            return random.choice(responses)\n",
    "\n",
    "    return \"I'm not sure how to respond to that. Could you try asking something different?\"\n",
    "\n",
    "def main():\n",
    "    print(\"Welcome to the Chatbot! Type 'bye' to exit.\")\n",
    "    while True:\n",
    "        user_input = input(\"You: \")\n",
    "        if user_input.lower() == 'bye':\n",
    "            print(chatbot_response(user_input))\n",
    "            break\n",
    "        response = chatbot_response(user_input)\n",
    "        print(\"Chatbot:\", response)\n",
    "\n",
    "if __name__ == \"__main__\":\n",
    "    main()\n"
   ]
  },
  {
   "cell_type": "code",
   "execution_count": null,
   "id": "7ef5f52b-68c3-499b-8646-45fcdf2d3656",
   "metadata": {},
   "outputs": [],
   "source": []
  }
 ],
 "metadata": {
  "kernelspec": {
   "display_name": "Python 3 (ipykernel)",
   "language": "python",
   "name": "python3"
  },
  "language_info": {
   "codemirror_mode": {
    "name": "ipython",
    "version": 3
   },
   "file_extension": ".py",
   "mimetype": "text/x-python",
   "name": "python",
   "nbconvert_exporter": "python",
   "pygments_lexer": "ipython3",
   "version": "3.12.4"
  }
 },
 "nbformat": 4,
 "nbformat_minor": 5
}
